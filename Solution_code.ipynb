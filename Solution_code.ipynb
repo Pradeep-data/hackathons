{
  "nbformat": 4,
  "nbformat_minor": 0,
  "metadata": {
    "colab": {
      "name": "Solution_code",
      "provenance": []
    },
    "kernelspec": {
      "name": "python3",
      "display_name": "Python 3"
    }
  },
  "cells": [
    {
      "cell_type": "code",
      "metadata": {
        "id": "jgrtW2W4ilWD"
      },
      "source": [
        "#importing the required libraries for the process\r\n",
        "import pandas as pd\r\n",
        "import numpy as np\r\n",
        "import matplotlib.pyplot as plt\r\n",
        "import seaborn as sns\r\n",
        "from sklearn.model_selection import train_test_split,GridSearchCV\r\n",
        "from sklearn.metrics import f1_score,accuracy_score,roc_curve,roc_auc_score"
      ],
      "execution_count": 1,
      "outputs": []
    },
    {
      "cell_type": "code",
      "metadata": {
        "colab": {
          "base_uri": "https://localhost:8080/",
          "height": 224
        },
        "id": "hUf209wVjGda",
        "outputId": "794cb2bb-860f-4442-c5f0-d7e51af1a98d"
      },
      "source": [
        "#importing the dataset\r\n",
        "q1=pd.read_excel('/content/drive/MyDrive/Axtria/Physician_activity_over_past_10_quarters.xlsx')\r\n",
        "train=pd.DataFrame(q1)\r\n",
        "train.head()"
      ],
      "execution_count": 2,
      "outputs": [
        {
          "output_type": "execute_result",
          "data": {
            "text/html": [
              "<div>\n",
              "<style scoped>\n",
              "    .dataframe tbody tr th:only-of-type {\n",
              "        vertical-align: middle;\n",
              "    }\n",
              "\n",
              "    .dataframe tbody tr th {\n",
              "        vertical-align: top;\n",
              "    }\n",
              "\n",
              "    .dataframe thead th {\n",
              "        text-align: right;\n",
              "    }\n",
              "</style>\n",
              "<table border=\"1\" class=\"dataframe\">\n",
              "  <thead>\n",
              "    <tr style=\"text-align: right;\">\n",
              "      <th></th>\n",
              "      <th>physician_id</th>\n",
              "      <th>year_quarter</th>\n",
              "      <th>brand_prescribed</th>\n",
              "      <th>total_representative_visits</th>\n",
              "      <th>total_sample_dropped</th>\n",
              "      <th>saving_cards_dropped</th>\n",
              "      <th>vouchers_dropped</th>\n",
              "      <th>total_seminar_as_attendee</th>\n",
              "      <th>total_seminar_as_speaker</th>\n",
              "      <th>physician_hospital_affiliation</th>\n",
              "      <th>physician_in_group_practice</th>\n",
              "      <th>total_prescriptions_for_indication1</th>\n",
              "      <th>total_prescriptions_for_indication2</th>\n",
              "      <th>total_prescriptions_for_indication3</th>\n",
              "      <th>total_patient_with_commercial_insurance_plan</th>\n",
              "      <th>total_patient_with_medicare_insurance_plan</th>\n",
              "      <th>total_patient_with_medicaid_insurance_plan</th>\n",
              "      <th>brand_web_impressions</th>\n",
              "      <th>brand_ehr_impressions</th>\n",
              "      <th>brand_enews_impressions</th>\n",
              "      <th>brand_mobile_impressions</th>\n",
              "      <th>brand_organic_web_visits</th>\n",
              "      <th>brand_paidsearch_visits</th>\n",
              "      <th>total_competitor_prescription</th>\n",
              "      <th>new_prescriptions</th>\n",
              "      <th>physician_segment</th>\n",
              "    </tr>\n",
              "  </thead>\n",
              "  <tbody>\n",
              "    <tr>\n",
              "      <th>0</th>\n",
              "      <td>1</td>\n",
              "      <td>201802</td>\n",
              "      <td>0</td>\n",
              "      <td>0</td>\n",
              "      <td>0</td>\n",
              "      <td>0</td>\n",
              "      <td>0</td>\n",
              "      <td>0</td>\n",
              "      <td>0</td>\n",
              "      <td>0</td>\n",
              "      <td>1</td>\n",
              "      <td>0</td>\n",
              "      <td>0</td>\n",
              "      <td>0</td>\n",
              "      <td>0</td>\n",
              "      <td>0</td>\n",
              "      <td>0</td>\n",
              "      <td>0</td>\n",
              "      <td>0</td>\n",
              "      <td>0</td>\n",
              "      <td>0</td>\n",
              "      <td>0</td>\n",
              "      <td>0</td>\n",
              "      <td>0</td>\n",
              "      <td>0</td>\n",
              "      <td>NaN</td>\n",
              "    </tr>\n",
              "    <tr>\n",
              "      <th>1</th>\n",
              "      <td>1</td>\n",
              "      <td>201803</td>\n",
              "      <td>0</td>\n",
              "      <td>10</td>\n",
              "      <td>11</td>\n",
              "      <td>0</td>\n",
              "      <td>0</td>\n",
              "      <td>1</td>\n",
              "      <td>0</td>\n",
              "      <td>0</td>\n",
              "      <td>1</td>\n",
              "      <td>0</td>\n",
              "      <td>0</td>\n",
              "      <td>0</td>\n",
              "      <td>0</td>\n",
              "      <td>0</td>\n",
              "      <td>0</td>\n",
              "      <td>0</td>\n",
              "      <td>0</td>\n",
              "      <td>0</td>\n",
              "      <td>0</td>\n",
              "      <td>0</td>\n",
              "      <td>1</td>\n",
              "      <td>0</td>\n",
              "      <td>0</td>\n",
              "      <td>NaN</td>\n",
              "    </tr>\n",
              "    <tr>\n",
              "      <th>2</th>\n",
              "      <td>1</td>\n",
              "      <td>201804</td>\n",
              "      <td>1</td>\n",
              "      <td>8</td>\n",
              "      <td>8</td>\n",
              "      <td>0</td>\n",
              "      <td>0</td>\n",
              "      <td>0</td>\n",
              "      <td>0</td>\n",
              "      <td>0</td>\n",
              "      <td>1</td>\n",
              "      <td>24</td>\n",
              "      <td>13</td>\n",
              "      <td>17</td>\n",
              "      <td>23</td>\n",
              "      <td>46</td>\n",
              "      <td>15</td>\n",
              "      <td>0</td>\n",
              "      <td>0</td>\n",
              "      <td>0</td>\n",
              "      <td>0</td>\n",
              "      <td>1</td>\n",
              "      <td>1</td>\n",
              "      <td>109</td>\n",
              "      <td>19</td>\n",
              "      <td>NaN</td>\n",
              "    </tr>\n",
              "    <tr>\n",
              "      <th>3</th>\n",
              "      <td>1</td>\n",
              "      <td>201901</td>\n",
              "      <td>1</td>\n",
              "      <td>11</td>\n",
              "      <td>24</td>\n",
              "      <td>0</td>\n",
              "      <td>0</td>\n",
              "      <td>0</td>\n",
              "      <td>0</td>\n",
              "      <td>0</td>\n",
              "      <td>1</td>\n",
              "      <td>50</td>\n",
              "      <td>26</td>\n",
              "      <td>29</td>\n",
              "      <td>36</td>\n",
              "      <td>90</td>\n",
              "      <td>29</td>\n",
              "      <td>0</td>\n",
              "      <td>0</td>\n",
              "      <td>0</td>\n",
              "      <td>0</td>\n",
              "      <td>1</td>\n",
              "      <td>1</td>\n",
              "      <td>204</td>\n",
              "      <td>18</td>\n",
              "      <td>NaN</td>\n",
              "    </tr>\n",
              "    <tr>\n",
              "      <th>4</th>\n",
              "      <td>1</td>\n",
              "      <td>201902</td>\n",
              "      <td>1</td>\n",
              "      <td>15</td>\n",
              "      <td>44</td>\n",
              "      <td>0</td>\n",
              "      <td>0</td>\n",
              "      <td>0</td>\n",
              "      <td>0</td>\n",
              "      <td>0</td>\n",
              "      <td>1</td>\n",
              "      <td>49</td>\n",
              "      <td>18</td>\n",
              "      <td>30</td>\n",
              "      <td>32</td>\n",
              "      <td>73</td>\n",
              "      <td>35</td>\n",
              "      <td>0</td>\n",
              "      <td>0</td>\n",
              "      <td>0</td>\n",
              "      <td>0</td>\n",
              "      <td>1</td>\n",
              "      <td>1</td>\n",
              "      <td>180</td>\n",
              "      <td>37</td>\n",
              "      <td>NaN</td>\n",
              "    </tr>\n",
              "  </tbody>\n",
              "</table>\n",
              "</div>"
            ],
            "text/plain": [
              "   physician_id  year_quarter  ...  new_prescriptions  physician_segment\n",
              "0             1        201802  ...                  0                NaN\n",
              "1             1        201803  ...                  0                NaN\n",
              "2             1        201804  ...                 19                NaN\n",
              "3             1        201901  ...                 18                NaN\n",
              "4             1        201902  ...                 37                NaN\n",
              "\n",
              "[5 rows x 26 columns]"
            ]
          },
          "metadata": {
            "tags": []
          },
          "execution_count": 2
        }
      ]
    },
    {
      "cell_type": "markdown",
      "metadata": {
        "id": "Vheb12KGkt-f"
      },
      "source": [
        "Data Pre-Processing"
      ]
    },
    {
      "cell_type": "code",
      "metadata": {
        "colab": {
          "base_uri": "https://localhost:8080/"
        },
        "id": "JIYj3-NbjaWP",
        "outputId": "22523c42-f486-4cd0-b6c0-e6145d94217b"
      },
      "source": [
        "#checking the shape\r\n",
        "train.shape"
      ],
      "execution_count": 3,
      "outputs": [
        {
          "output_type": "execute_result",
          "data": {
            "text/plain": [
              "(100000, 26)"
            ]
          },
          "metadata": {
            "tags": []
          },
          "execution_count": 3
        }
      ]
    },
    {
      "cell_type": "code",
      "metadata": {
        "colab": {
          "base_uri": "https://localhost:8080/"
        },
        "id": "r4Db2XzQJOqz",
        "outputId": "408247d8-a16a-4c7d-a7fb-6df47bcb2bb0"
      },
      "source": [
        "#checking for null data\r\n",
        "train.isnull().sum()"
      ],
      "execution_count": 4,
      "outputs": [
        {
          "output_type": "execute_result",
          "data": {
            "text/plain": [
              "physician_id                                        0\n",
              "year_quarter                                        0\n",
              "brand_prescribed                                    0\n",
              "total_representative_visits                         0\n",
              "total_sample_dropped                                0\n",
              "saving_cards_dropped                                0\n",
              "vouchers_dropped                                    0\n",
              "total_seminar_as_attendee                           0\n",
              "total_seminar_as_speaker                            0\n",
              "physician_hospital_affiliation                      0\n",
              "physician_in_group_practice                         0\n",
              "total_prescriptions_for_indication1                 0\n",
              "total_prescriptions_for_indication2                 0\n",
              "total_prescriptions_for_indication3                 0\n",
              "total_patient_with_commercial_insurance_plan        0\n",
              "total_patient_with_medicare_insurance_plan          0\n",
              "total_patient_with_medicaid_insurance_plan          0\n",
              "brand_web_impressions                               0\n",
              "brand_ehr_impressions                               0\n",
              "brand_enews_impressions                             0\n",
              "brand_mobile_impressions                            0\n",
              "brand_organic_web_visits                            0\n",
              "brand_paidsearch_visits                             0\n",
              "total_competitor_prescription                       0\n",
              "new_prescriptions                                   0\n",
              "physician_segment                               51098\n",
              "dtype: int64"
            ]
          },
          "metadata": {
            "tags": []
          },
          "execution_count": 4
        }
      ]
    },
    {
      "cell_type": "code",
      "metadata": {
        "colab": {
          "base_uri": "https://localhost:8080/"
        },
        "id": "Wl5YbwBOkKMq",
        "outputId": "85f7f75f-8fcd-49a2-a746-5b6f47cfd41a"
      },
      "source": [
        "#feature information\r\n",
        "train.info()"
      ],
      "execution_count": 5,
      "outputs": [
        {
          "output_type": "stream",
          "text": [
            "<class 'pandas.core.frame.DataFrame'>\n",
            "RangeIndex: 100000 entries, 0 to 99999\n",
            "Data columns (total 26 columns):\n",
            " #   Column                                        Non-Null Count   Dtype \n",
            "---  ------                                        --------------   ----- \n",
            " 0   physician_id                                  100000 non-null  int64 \n",
            " 1   year_quarter                                  100000 non-null  int64 \n",
            " 2   brand_prescribed                              100000 non-null  int64 \n",
            " 3   total_representative_visits                   100000 non-null  int64 \n",
            " 4   total_sample_dropped                          100000 non-null  int64 \n",
            " 5   saving_cards_dropped                          100000 non-null  int64 \n",
            " 6   vouchers_dropped                              100000 non-null  int64 \n",
            " 7   total_seminar_as_attendee                     100000 non-null  int64 \n",
            " 8   total_seminar_as_speaker                      100000 non-null  int64 \n",
            " 9   physician_hospital_affiliation                100000 non-null  int64 \n",
            " 10  physician_in_group_practice                   100000 non-null  int64 \n",
            " 11  total_prescriptions_for_indication1           100000 non-null  int64 \n",
            " 12  total_prescriptions_for_indication2           100000 non-null  int64 \n",
            " 13  total_prescriptions_for_indication3           100000 non-null  int64 \n",
            " 14  total_patient_with_commercial_insurance_plan  100000 non-null  int64 \n",
            " 15  total_patient_with_medicare_insurance_plan    100000 non-null  int64 \n",
            " 16  total_patient_with_medicaid_insurance_plan    100000 non-null  int64 \n",
            " 17  brand_web_impressions                         100000 non-null  int64 \n",
            " 18  brand_ehr_impressions                         100000 non-null  int64 \n",
            " 19  brand_enews_impressions                       100000 non-null  int64 \n",
            " 20  brand_mobile_impressions                      100000 non-null  int64 \n",
            " 21  brand_organic_web_visits                      100000 non-null  int64 \n",
            " 22  brand_paidsearch_visits                       100000 non-null  int64 \n",
            " 23  total_competitor_prescription                 100000 non-null  int64 \n",
            " 24  new_prescriptions                             100000 non-null  int64 \n",
            " 25  physician_segment                             48902 non-null   object\n",
            "dtypes: int64(25), object(1)\n",
            "memory usage: 19.8+ MB\n"
          ],
          "name": "stdout"
        }
      ]
    },
    {
      "cell_type": "code",
      "metadata": {
        "id": "pIWBwD8NkNtM"
      },
      "source": [
        "#from info,we get we have one column which has high number of null values(more than 50 percent,lets drop it first)\r\n",
        "train.drop(['physician_segment'],axis=1,inplace=True)"
      ],
      "execution_count": 6,
      "outputs": []
    },
    {
      "cell_type": "code",
      "metadata": {
        "id": "FMMdJV3doIzX"
      },
      "source": [
        "#dropping year_quarter column as it not adding any value\r\n",
        "train.drop(['year_quarter'],axis=1,inplace=True)"
      ],
      "execution_count": 7,
      "outputs": []
    },
    {
      "cell_type": "markdown",
      "metadata": {
        "id": "D0vBxbQhJlBy"
      },
      "source": [
        "Visualising the data"
      ]
    },
    {
      "cell_type": "code",
      "metadata": {
        "colab": {
          "base_uri": "https://localhost:8080/",
          "height": 351
        },
        "id": "F89OY9w7rTmk",
        "outputId": "2af75736-8cbb-4230-ed1d-495a1dace36a"
      },
      "source": [
        "sns.scatterplot(train['physician_id'],train['total_representative_visits'])"
      ],
      "execution_count": 8,
      "outputs": [
        {
          "output_type": "stream",
          "text": [
            "/usr/local/lib/python3.7/dist-packages/seaborn/_decorators.py:43: FutureWarning: Pass the following variables as keyword args: x, y. From version 0.12, the only valid positional argument will be `data`, and passing other arguments without an explicit keyword will result in an error or misinterpretation.\n",
            "  FutureWarning\n"
          ],
          "name": "stderr"
        },
        {
          "output_type": "execute_result",
          "data": {
            "text/plain": [
              "<matplotlib.axes._subplots.AxesSubplot at 0x7fd2c053b350>"
            ]
          },
          "metadata": {
            "tags": []
          },
          "execution_count": 8
        },
        {
          "output_type": "display_data",
          "data": {
            "image/png": "[encoded data removed]",
            "text/plain": [
              "<Figure size 432x288 with 1 Axes>"
            ]
          },
          "metadata": {
            "tags": [],
            "needs_background": "light"
          }
        }
      ]
    },
    {
      "cell_type": "code",
      "metadata": {
        "colab": {
          "base_uri": "https://localhost:8080/",
          "height": 351
        },
        "id": "2i4P-Y7RKHZ1",
        "outputId": "bb2281e1-bf40-449c-bfe1-9cc9d2c755d9"
      },
      "source": [
        "sns.barplot(train['brand_prescribed'],train['physician_id'],palette='spring')"
      ],
      "execution_count": 9,
      "outputs": [
        {
          "output_type": "stream",
          "text": [
            "/usr/local/lib/python3.7/dist-packages/seaborn/_decorators.py:43: FutureWarning: Pass the following variables as keyword args: x, y. From version 0.12, the only valid positional argument will be `data`, and passing other arguments without an explicit keyword will result in an error or misinterpretation.\n",
            "  FutureWarning\n"
          ],
          "name": "stderr"
        },
        {
          "output_type": "execute_result",
          "data": {
            "text/plain": [
              "<matplotlib.axes._subplots.AxesSubplot at 0x7fd2b6662710>"
            ]
          },
          "metadata": {
            "tags": []
          },
          "execution_count": 9
        },
        {
          "output_type": "display_data",
          "data": {
            "image/png": "[encoded data removed]",
            "text/plain": [
              "<Figure size 432x288 with 1 Axes>"
            ]
          },
          "metadata": {
            "tags": [],
            "needs_background": "light"
          }
        }
      ]
    },
    {
      "cell_type": "code",
      "metadata": {
        "colab": {
          "base_uri": "https://localhost:8080/",
          "height": 351
        },
        "id": "6D569VlsJpU9",
        "outputId": "01c007fa-3371-4c98-f20f-a768689fa043"
      },
      "source": [
        "sns.distplot(train['new_prescriptions'])"
      ],
      "execution_count": 10,
      "outputs": [
        {
          "output_type": "stream",
          "text": [
            "/usr/local/lib/python3.7/dist-packages/seaborn/distributions.py:2557: FutureWarning: `distplot` is a deprecated function and will be removed in a future version. Please adapt your code to use either `displot` (a figure-level function with similar flexibility) or `histplot` (an axes-level function for histograms).\n",
            "  warnings.warn(msg, FutureWarning)\n"
          ],
          "name": "stderr"
        },
        {
          "output_type": "execute_result",
          "data": {
            "text/plain": [
              "<matplotlib.axes._subplots.AxesSubplot at 0x7fd2b8f5cad0>"
            ]
          },
          "metadata": {
            "tags": []
          },
          "execution_count": 10
        },
        {
          "output_type": "display_data",
          "data": {
            "image/png": "[encoded data removed]",
            "text/plain": [
              "<Figure size 432x288 with 1 Axes>"
            ]
          },
          "metadata": {
            "tags": [],
            "needs_background": "light"
          }
        }
      ]
    },
    {
      "cell_type": "code",
      "metadata": {
        "colab": {
          "base_uri": "https://localhost:8080/",
          "height": 351
        },
        "id": "HGaknMZDLvuj",
        "outputId": "4855dee5-3941-4e1a-cc57-51260dabfa14"
      },
      "source": [
        "sns.lineplot(train['physician_in_group_practice'],train['physician_id'])"
      ],
      "execution_count": 11,
      "outputs": [
        {
          "output_type": "stream",
          "text": [
            "/usr/local/lib/python3.7/dist-packages/seaborn/_decorators.py:43: FutureWarning: Pass the following variables as keyword args: x, y. From version 0.12, the only valid positional argument will be `data`, and passing other arguments without an explicit keyword will result in an error or misinterpretation.\n",
            "  FutureWarning\n"
          ],
          "name": "stderr"
        },
        {
          "output_type": "execute_result",
          "data": {
            "text/plain": [
              "<matplotlib.axes._subplots.AxesSubplot at 0x7fd2bd9d48d0>"
            ]
          },
          "metadata": {
            "tags": []
          },
          "execution_count": 11
        },
        {
          "output_type": "display_data",
          "data": {
            "image/png": "[encoded data removed]",
            "text/plain": [
              "<Figure size 432x288 with 1 Axes>"
            ]
          },
          "metadata": {
            "tags": [],
            "needs_background": "light"
          }
        }
      ]
    },
    {
      "cell_type": "code",
      "metadata": {
        "colab": {
          "base_uri": "https://localhost:8080/",
          "height": 778
        },
        "id": "RwvczP5Osyzg",
        "outputId": "43b88456-3293-4186-8690-2db71877cc48"
      },
      "source": [
        "plt.figure(figsize=(15,10))\r\n",
        "sns.heatmap(train.corr())"
      ],
      "execution_count": 12,
      "outputs": [
        {
          "output_type": "execute_result",
          "data": {
            "text/plain": [
              "<matplotlib.axes._subplots.AxesSubplot at 0x7fd2bdbca150>"
            ]
          },
          "metadata": {
            "tags": []
          },
          "execution_count": 12
        },
        {
          "output_type": "display_data",
          "data": {
            "image/png": "[encoded data removed]",
            "text/plain": [
              "<Figure size 1080x720 with 2 Axes>"
            ]
          },
          "metadata": {
            "tags": [],
            "needs_background": "light"
          }
        }
      ]
    },
    {
      "cell_type": "markdown",
      "metadata": {
        "id": "YTKTdZWZNqow"
      },
      "source": [
        "Feature Engineering"
      ]
    },
    {
      "cell_type": "code",
      "metadata": {
        "colab": {
          "base_uri": "https://localhost:8080/"
        },
        "id": "Q0Ge8MgyuvEz",
        "outputId": "500398b4-1dca-4455-b6d8-af2990f9fc3a"
      },
      "source": [
        "#checking the skewness of data\r\n",
        "train.skew()"
      ],
      "execution_count": 13,
      "outputs": [
        {
          "output_type": "execute_result",
          "data": {
            "text/plain": [
              "physician_id                                     0.000000\n",
              "brand_prescribed                                 0.185394\n",
              "total_representative_visits                      1.147292\n",
              "total_sample_dropped                            10.364840\n",
              "saving_cards_dropped                            10.308719\n",
              "vouchers_dropped                                29.408580\n",
              "total_seminar_as_attendee                        3.564893\n",
              "total_seminar_as_speaker                        46.113569\n",
              "physician_hospital_affiliation                   1.621638\n",
              "physician_in_group_practice                     -4.579050\n",
              "total_prescriptions_for_indication1              3.197163\n",
              "total_prescriptions_for_indication2              6.339249\n",
              "total_prescriptions_for_indication3              5.512469\n",
              "total_patient_with_commercial_insurance_plan     3.242671\n",
              "total_patient_with_medicare_insurance_plan       4.624609\n",
              "total_patient_with_medicaid_insurance_plan       6.362826\n",
              "brand_web_impressions                           40.896680\n",
              "brand_ehr_impressions                           28.248099\n",
              "brand_enews_impressions                         28.327984\n",
              "brand_mobile_impressions                        42.924719\n",
              "brand_organic_web_visits                        -1.881114\n",
              "brand_paidsearch_visits                         -2.694766\n",
              "total_competitor_prescription                    3.492675\n",
              "new_prescriptions                                6.172342\n",
              "dtype: float64"
            ]
          },
          "metadata": {
            "tags": []
          },
          "execution_count": 13
        }
      ]
    },
    {
      "cell_type": "code",
      "metadata": {
        "id": "mbhTgIhewiPq"
      },
      "source": [
        "#adjusting for skewed values\r\n",
        "for index in train.skew().index:\r\n",
        "    if train.skew().loc[index]>0.5:\r\n",
        "        train[index]=np.log1p(train[index])\r\n",
        "    if train.skew().loc[index]<-0.5:\r\n",
        "        train[index]=np.square(train[index])"
      ],
      "execution_count": 14,
      "outputs": []
    },
    {
      "cell_type": "code",
      "metadata": {
        "colab": {
          "base_uri": "https://localhost:8080/",
          "height": 317
        },
        "id": "sSzTgzuQxBPR",
        "outputId": "1cdb245b-7c3f-4f1e-a82e-dcf664ba6ad7"
      },
      "source": [
        "#getting statistical summary of the given data\r\n",
        "train.describe()"
      ],
      "execution_count": 15,
      "outputs": [
        {
          "output_type": "execute_result",
          "data": {
            "text/html": [
              "<div>\n",
              "<style scoped>\n",
              "    .dataframe tbody tr th:only-of-type {\n",
              "        vertical-align: middle;\n",
              "    }\n",
              "\n",
              "    .dataframe tbody tr th {\n",
              "        vertical-align: top;\n",
              "    }\n",
              "\n",
              "    .dataframe thead th {\n",
              "        text-align: right;\n",
              "    }\n",
              "</style>\n",
              "<table border=\"1\" class=\"dataframe\">\n",
              "  <thead>\n",
              "    <tr style=\"text-align: right;\">\n",
              "      <th></th>\n",
              "      <th>physician_id</th>\n",
              "      <th>brand_prescribed</th>\n",
              "      <th>total_representative_visits</th>\n",
              "      <th>total_sample_dropped</th>\n",
              "      <th>saving_cards_dropped</th>\n",
              "      <th>vouchers_dropped</th>\n",
              "      <th>total_seminar_as_attendee</th>\n",
              "      <th>total_seminar_as_speaker</th>\n",
              "      <th>physician_hospital_affiliation</th>\n",
              "      <th>physician_in_group_practice</th>\n",
              "      <th>total_prescriptions_for_indication1</th>\n",
              "      <th>total_prescriptions_for_indication2</th>\n",
              "      <th>total_prescriptions_for_indication3</th>\n",
              "      <th>total_patient_with_commercial_insurance_plan</th>\n",
              "      <th>total_patient_with_medicare_insurance_plan</th>\n",
              "      <th>total_patient_with_medicaid_insurance_plan</th>\n",
              "      <th>brand_web_impressions</th>\n",
              "      <th>brand_ehr_impressions</th>\n",
              "      <th>brand_enews_impressions</th>\n",
              "      <th>brand_mobile_impressions</th>\n",
              "      <th>brand_organic_web_visits</th>\n",
              "      <th>brand_paidsearch_visits</th>\n",
              "      <th>total_competitor_prescription</th>\n",
              "      <th>new_prescriptions</th>\n",
              "    </tr>\n",
              "  </thead>\n",
              "  <tbody>\n",
              "    <tr>\n",
              "      <th>count</th>\n",
              "      <td>100000.000000</td>\n",
              "      <td>100000.000000</td>\n",
              "      <td>100000.000000</td>\n",
              "      <td>100000.000000</td>\n",
              "      <td>100000.000000</td>\n",
              "      <td>100000.000000</td>\n",
              "      <td>100000.000000</td>\n",
              "      <td>100000.000000</td>\n",
              "      <td>100000.000000</td>\n",
              "      <td>100000.000000</td>\n",
              "      <td>100000.000000</td>\n",
              "      <td>100000.000000</td>\n",
              "      <td>100000.000000</td>\n",
              "      <td>100000.000000</td>\n",
              "      <td>100000.000000</td>\n",
              "      <td>100000.000000</td>\n",
              "      <td>100000.000000</td>\n",
              "      <td>100000.000000</td>\n",
              "      <td>100000.000000</td>\n",
              "      <td>100000.000000</td>\n",
              "      <td>100000.000000</td>\n",
              "      <td>100000.000000</td>\n",
              "      <td>100000.000000</td>\n",
              "      <td>100000.000000</td>\n",
              "    </tr>\n",
              "    <tr>\n",
              "      <th>mean</th>\n",
              "      <td>5000.500000</td>\n",
              "      <td>0.453850</td>\n",
              "      <td>4.045636</td>\n",
              "      <td>1.189203</td>\n",
              "      <td>0.198707</td>\n",
              "      <td>0.040010</td>\n",
              "      <td>0.088722</td>\n",
              "      <td>0.013452</td>\n",
              "      <td>0.128302</td>\n",
              "      <td>0.958200</td>\n",
              "      <td>15.121210</td>\n",
              "      <td>2.712398</td>\n",
              "      <td>15.038614</td>\n",
              "      <td>14.522316</td>\n",
              "      <td>14.997320</td>\n",
              "      <td>1.806495</td>\n",
              "      <td>0.604615</td>\n",
              "      <td>0.362679</td>\n",
              "      <td>0.127616</td>\n",
              "      <td>0.158797</td>\n",
              "      <td>0.842560</td>\n",
              "      <td>0.901500</td>\n",
              "      <td>26.544630</td>\n",
              "      <td>2.750854</td>\n",
              "    </tr>\n",
              "    <tr>\n",
              "      <th>std</th>\n",
              "      <td>2886.765765</td>\n",
              "      <td>0.497868</td>\n",
              "      <td>3.064092</td>\n",
              "      <td>1.421751</td>\n",
              "      <td>0.601401</td>\n",
              "      <td>0.261042</td>\n",
              "      <td>0.249687</td>\n",
              "      <td>0.147529</td>\n",
              "      <td>0.269205</td>\n",
              "      <td>0.200133</td>\n",
              "      <td>9.708218</td>\n",
              "      <td>1.749193</td>\n",
              "      <td>10.058089</td>\n",
              "      <td>10.267338</td>\n",
              "      <td>11.867606</td>\n",
              "      <td>1.953922</td>\n",
              "      <td>0.740419</td>\n",
              "      <td>0.698141</td>\n",
              "      <td>0.294143</td>\n",
              "      <td>0.363718</td>\n",
              "      <td>0.364217</td>\n",
              "      <td>0.297991</td>\n",
              "      <td>15.904555</td>\n",
              "      <td>1.843625</td>\n",
              "    </tr>\n",
              "    <tr>\n",
              "      <th>min</th>\n",
              "      <td>1.000000</td>\n",
              "      <td>0.000000</td>\n",
              "      <td>0.000000</td>\n",
              "      <td>0.000000</td>\n",
              "      <td>0.000000</td>\n",
              "      <td>0.000000</td>\n",
              "      <td>0.000000</td>\n",
              "      <td>0.000000</td>\n",
              "      <td>0.000000</td>\n",
              "      <td>0.000000</td>\n",
              "      <td>0.000000</td>\n",
              "      <td>0.000000</td>\n",
              "      <td>0.000000</td>\n",
              "      <td>0.000000</td>\n",
              "      <td>0.000000</td>\n",
              "      <td>0.000000</td>\n",
              "      <td>0.000000</td>\n",
              "      <td>0.000000</td>\n",
              "      <td>0.000000</td>\n",
              "      <td>0.000000</td>\n",
              "      <td>0.000000</td>\n",
              "      <td>0.000000</td>\n",
              "      <td>0.000000</td>\n",
              "      <td>0.000000</td>\n",
              "    </tr>\n",
              "    <tr>\n",
              "      <th>25%</th>\n",
              "      <td>2500.750000</td>\n",
              "      <td>0.000000</td>\n",
              "      <td>1.206949</td>\n",
              "      <td>0.000000</td>\n",
              "      <td>0.000000</td>\n",
              "      <td>0.000000</td>\n",
              "      <td>0.000000</td>\n",
              "      <td>0.000000</td>\n",
              "      <td>0.000000</td>\n",
              "      <td>1.000000</td>\n",
              "      <td>8.669721</td>\n",
              "      <td>1.386294</td>\n",
              "      <td>7.687248</td>\n",
              "      <td>5.749902</td>\n",
              "      <td>3.210402</td>\n",
              "      <td>0.000000</td>\n",
              "      <td>0.000000</td>\n",
              "      <td>0.000000</td>\n",
              "      <td>0.000000</td>\n",
              "      <td>0.000000</td>\n",
              "      <td>1.000000</td>\n",
              "      <td>1.000000</td>\n",
              "      <td>18.170440</td>\n",
              "      <td>1.098612</td>\n",
              "    </tr>\n",
              "    <tr>\n",
              "      <th>50%</th>\n",
              "      <td>5000.500000</td>\n",
              "      <td>0.000000</td>\n",
              "      <td>3.786566</td>\n",
              "      <td>0.000000</td>\n",
              "      <td>0.000000</td>\n",
              "      <td>0.000000</td>\n",
              "      <td>0.000000</td>\n",
              "      <td>0.000000</td>\n",
              "      <td>0.000000</td>\n",
              "      <td>1.000000</td>\n",
              "      <td>16.487197</td>\n",
              "      <td>2.995732</td>\n",
              "      <td>16.203456</td>\n",
              "      <td>15.303924</td>\n",
              "      <td>14.658495</td>\n",
              "      <td>1.386294</td>\n",
              "      <td>0.000000</td>\n",
              "      <td>0.000000</td>\n",
              "      <td>0.000000</td>\n",
              "      <td>0.000000</td>\n",
              "      <td>1.000000</td>\n",
              "      <td>1.000000</td>\n",
              "      <td>29.899682</td>\n",
              "      <td>3.178054</td>\n",
              "    </tr>\n",
              "    <tr>\n",
              "      <th>75%</th>\n",
              "      <td>7500.250000</td>\n",
              "      <td>1.000000</td>\n",
              "      <td>6.174761</td>\n",
              "      <td>2.302585</td>\n",
              "      <td>0.000000</td>\n",
              "      <td>0.000000</td>\n",
              "      <td>0.000000</td>\n",
              "      <td>0.000000</td>\n",
              "      <td>0.000000</td>\n",
              "      <td>1.000000</td>\n",
              "      <td>22.094516</td>\n",
              "      <td>4.077537</td>\n",
              "      <td>22.348196</td>\n",
              "      <td>22.179675</td>\n",
              "      <td>24.134178</td>\n",
              "      <td>3.367296</td>\n",
              "      <td>1.098612</td>\n",
              "      <td>0.693147</td>\n",
              "      <td>0.000000</td>\n",
              "      <td>0.000000</td>\n",
              "      <td>1.000000</td>\n",
              "      <td>1.000000</td>\n",
              "      <td>38.012377</td>\n",
              "      <td>4.204693</td>\n",
              "    </tr>\n",
              "    <tr>\n",
              "      <th>max</th>\n",
              "      <td>10000.000000</td>\n",
              "      <td>1.000000</td>\n",
              "      <td>16.203456</td>\n",
              "      <td>7.239215</td>\n",
              "      <td>4.948760</td>\n",
              "      <td>4.762174</td>\n",
              "      <td>2.197225</td>\n",
              "      <td>4.499810</td>\n",
              "      <td>0.693147</td>\n",
              "      <td>1.000000</td>\n",
              "      <td>60.829757</td>\n",
              "      <td>7.983781</td>\n",
              "      <td>68.658085</td>\n",
              "      <td>58.590501</td>\n",
              "      <td>71.660764</td>\n",
              "      <td>8.014666</td>\n",
              "      <td>6.350886</td>\n",
              "      <td>6.709304</td>\n",
              "      <td>3.891820</td>\n",
              "      <td>4.948760</td>\n",
              "      <td>1.000000</td>\n",
              "      <td>1.000000</td>\n",
              "      <td>83.301376</td>\n",
              "      <td>8.240385</td>\n",
              "    </tr>\n",
              "  </tbody>\n",
              "</table>\n",
              "</div>"
            ],
            "text/plain": [
              "        physician_id  ...  new_prescriptions\n",
              "count  100000.000000  ...      100000.000000\n",
              "mean     5000.500000  ...           2.750854\n",
              "std      2886.765765  ...           1.843625\n",
              "min         1.000000  ...           0.000000\n",
              "25%      2500.750000  ...           1.098612\n",
              "50%      5000.500000  ...           3.178054\n",
              "75%      7500.250000  ...           4.204693\n",
              "max     10000.000000  ...           8.240385\n",
              "\n",
              "[8 rows x 24 columns]"
            ]
          },
          "metadata": {
            "tags": []
          },
          "execution_count": 15
        }
      ]
    },
    {
      "cell_type": "markdown",
      "metadata": {
        "id": "r_66WSKCNCtb"
      },
      "source": [
        "Some of the feature here have outliers,so lets first try to adjust them"
      ]
    },
    {
      "cell_type": "code",
      "metadata": {
        "colab": {
          "base_uri": "https://localhost:8080/"
        },
        "id": "nuI1n8RZxFbX",
        "outputId": "febd233e-2fc1-4e25-c655-255753159ace"
      },
      "source": [
        "#importing zscore for outliers removal\r\n",
        "from scipy.stats import zscore\r\n",
        "z=np.abs(zscore(train))\r\n",
        "train_new=train[(z<3).all(axis=1)]\r\n",
        "train_new.shape"
      ],
      "execution_count": 16,
      "outputs": [
        {
          "output_type": "execute_result",
          "data": {
            "text/plain": [
              "(74036, 24)"
            ]
          },
          "metadata": {
            "tags": []
          },
          "execution_count": 16
        }
      ]
    },
    {
      "cell_type": "code",
      "metadata": {
        "colab": {
          "base_uri": "https://localhost:8080/"
        },
        "id": "5vdajLCzxbI8",
        "outputId": "4f4db643-d8fa-45d6-baf5-af92711b758a"
      },
      "source": [
        "train.shape"
      ],
      "execution_count": 17,
      "outputs": [
        {
          "output_type": "execute_result",
          "data": {
            "text/plain": [
              "(100000, 24)"
            ]
          },
          "metadata": {
            "tags": []
          },
          "execution_count": 17
        }
      ]
    },
    {
      "cell_type": "markdown",
      "metadata": {
        "id": "BGMK-knFxtO1"
      },
      "source": [
        "There is huge diffrence in shape after applying zscore,so lets select it as a final dataset"
      ]
    },
    {
      "cell_type": "code",
      "metadata": {
        "id": "VAio5lWBxe0c"
      },
      "source": [
        "train=train_new"
      ],
      "execution_count": 18,
      "outputs": []
    },
    {
      "cell_type": "code",
      "metadata": {
        "colab": {
          "base_uri": "https://localhost:8080/",
          "height": 224
        },
        "id": "MOXBatPGNZhg",
        "outputId": "11e7cb33-258e-43bc-aaea-b0e3f34073a8"
      },
      "source": [
        "#getting the data overview now\r\n",
        "train.head()"
      ],
      "execution_count": 19,
      "outputs": [
        {
          "output_type": "execute_result",
          "data": {
            "text/html": [
              "<div>\n",
              "<style scoped>\n",
              "    .dataframe tbody tr th:only-of-type {\n",
              "        vertical-align: middle;\n",
              "    }\n",
              "\n",
              "    .dataframe tbody tr th {\n",
              "        vertical-align: top;\n",
              "    }\n",
              "\n",
              "    .dataframe thead th {\n",
              "        text-align: right;\n",
              "    }\n",
              "</style>\n",
              "<table border=\"1\" class=\"dataframe\">\n",
              "  <thead>\n",
              "    <tr style=\"text-align: right;\">\n",
              "      <th></th>\n",
              "      <th>physician_id</th>\n",
              "      <th>brand_prescribed</th>\n",
              "      <th>total_representative_visits</th>\n",
              "      <th>total_sample_dropped</th>\n",
              "      <th>saving_cards_dropped</th>\n",
              "      <th>vouchers_dropped</th>\n",
              "      <th>total_seminar_as_attendee</th>\n",
              "      <th>total_seminar_as_speaker</th>\n",
              "      <th>physician_hospital_affiliation</th>\n",
              "      <th>physician_in_group_practice</th>\n",
              "      <th>total_prescriptions_for_indication1</th>\n",
              "      <th>total_prescriptions_for_indication2</th>\n",
              "      <th>total_prescriptions_for_indication3</th>\n",
              "      <th>total_patient_with_commercial_insurance_plan</th>\n",
              "      <th>total_patient_with_medicare_insurance_plan</th>\n",
              "      <th>total_patient_with_medicaid_insurance_plan</th>\n",
              "      <th>brand_web_impressions</th>\n",
              "      <th>brand_ehr_impressions</th>\n",
              "      <th>brand_enews_impressions</th>\n",
              "      <th>brand_mobile_impressions</th>\n",
              "      <th>brand_organic_web_visits</th>\n",
              "      <th>brand_paidsearch_visits</th>\n",
              "      <th>total_competitor_prescription</th>\n",
              "      <th>new_prescriptions</th>\n",
              "    </tr>\n",
              "  </thead>\n",
              "  <tbody>\n",
              "    <tr>\n",
              "      <th>1</th>\n",
              "      <td>1</td>\n",
              "      <td>0</td>\n",
              "      <td>5.749902</td>\n",
              "      <td>2.484907</td>\n",
              "      <td>0.0</td>\n",
              "      <td>0.0</td>\n",
              "      <td>0.693147</td>\n",
              "      <td>0.0</td>\n",
              "      <td>0.0</td>\n",
              "      <td>1</td>\n",
              "      <td>0.000000</td>\n",
              "      <td>0.000000</td>\n",
              "      <td>0.000000</td>\n",
              "      <td>0.000000</td>\n",
              "      <td>0.000000</td>\n",
              "      <td>0.000000</td>\n",
              "      <td>0.000000</td>\n",
              "      <td>0.0</td>\n",
              "      <td>0.000000</td>\n",
              "      <td>0.000000</td>\n",
              "      <td>0</td>\n",
              "      <td>1</td>\n",
              "      <td>0.000000</td>\n",
              "      <td>0.000000</td>\n",
              "    </tr>\n",
              "    <tr>\n",
              "      <th>2</th>\n",
              "      <td>1</td>\n",
              "      <td>1</td>\n",
              "      <td>4.827796</td>\n",
              "      <td>2.197225</td>\n",
              "      <td>0.0</td>\n",
              "      <td>0.0</td>\n",
              "      <td>0.000000</td>\n",
              "      <td>0.0</td>\n",
              "      <td>0.0</td>\n",
              "      <td>1</td>\n",
              "      <td>10.361162</td>\n",
              "      <td>2.639057</td>\n",
              "      <td>8.354249</td>\n",
              "      <td>10.100026</td>\n",
              "      <td>14.823637</td>\n",
              "      <td>2.772589</td>\n",
              "      <td>0.000000</td>\n",
              "      <td>0.0</td>\n",
              "      <td>0.000000</td>\n",
              "      <td>0.000000</td>\n",
              "      <td>1</td>\n",
              "      <td>1</td>\n",
              "      <td>22.094516</td>\n",
              "      <td>2.995732</td>\n",
              "    </tr>\n",
              "    <tr>\n",
              "      <th>3</th>\n",
              "      <td>1</td>\n",
              "      <td>1</td>\n",
              "      <td>6.174761</td>\n",
              "      <td>3.218876</td>\n",
              "      <td>0.0</td>\n",
              "      <td>0.0</td>\n",
              "      <td>0.000000</td>\n",
              "      <td>0.0</td>\n",
              "      <td>0.0</td>\n",
              "      <td>1</td>\n",
              "      <td>15.459253</td>\n",
              "      <td>3.295837</td>\n",
              "      <td>11.568144</td>\n",
              "      <td>13.038728</td>\n",
              "      <td>20.347853</td>\n",
              "      <td>3.401197</td>\n",
              "      <td>0.000000</td>\n",
              "      <td>0.0</td>\n",
              "      <td>0.000000</td>\n",
              "      <td>0.000000</td>\n",
              "      <td>1</td>\n",
              "      <td>1</td>\n",
              "      <td>28.334435</td>\n",
              "      <td>2.944439</td>\n",
              "    </tr>\n",
              "    <tr>\n",
              "      <th>4</th>\n",
              "      <td>1</td>\n",
              "      <td>1</td>\n",
              "      <td>7.687248</td>\n",
              "      <td>3.806662</td>\n",
              "      <td>0.0</td>\n",
              "      <td>0.0</td>\n",
              "      <td>0.000000</td>\n",
              "      <td>0.0</td>\n",
              "      <td>0.0</td>\n",
              "      <td>1</td>\n",
              "      <td>15.303924</td>\n",
              "      <td>2.944439</td>\n",
              "      <td>11.792268</td>\n",
              "      <td>12.225565</td>\n",
              "      <td>18.524976</td>\n",
              "      <td>3.583519</td>\n",
              "      <td>0.000000</td>\n",
              "      <td>0.0</td>\n",
              "      <td>0.000000</td>\n",
              "      <td>0.000000</td>\n",
              "      <td>1</td>\n",
              "      <td>1</td>\n",
              "      <td>27.024371</td>\n",
              "      <td>3.637586</td>\n",
              "    </tr>\n",
              "    <tr>\n",
              "      <th>5</th>\n",
              "      <td>1</td>\n",
              "      <td>1</td>\n",
              "      <td>5.301898</td>\n",
              "      <td>3.688879</td>\n",
              "      <td>0.0</td>\n",
              "      <td>0.0</td>\n",
              "      <td>0.693147</td>\n",
              "      <td>0.0</td>\n",
              "      <td>0.0</td>\n",
              "      <td>1</td>\n",
              "      <td>14.823637</td>\n",
              "      <td>3.044522</td>\n",
              "      <td>11.338681</td>\n",
              "      <td>11.338681</td>\n",
              "      <td>18.868646</td>\n",
              "      <td>3.367296</td>\n",
              "      <td>1.098612</td>\n",
              "      <td>0.0</td>\n",
              "      <td>0.693147</td>\n",
              "      <td>0.693147</td>\n",
              "      <td>1</td>\n",
              "      <td>1</td>\n",
              "      <td>26.132419</td>\n",
              "      <td>3.761200</td>\n",
              "    </tr>\n",
              "  </tbody>\n",
              "</table>\n",
              "</div>"
            ],
            "text/plain": [
              "   physician_id  ...  new_prescriptions\n",
              "1             1  ...           0.000000\n",
              "2             1  ...           2.995732\n",
              "3             1  ...           2.944439\n",
              "4             1  ...           3.637586\n",
              "5             1  ...           3.761200\n",
              "\n",
              "[5 rows x 24 columns]"
            ]
          },
          "metadata": {
            "tags": []
          },
          "execution_count": 19
        }
      ]
    },
    {
      "cell_type": "markdown",
      "metadata": {
        "id": "4e5GK38mNg3O"
      },
      "source": [
        "Splitting dataset to train and test"
      ]
    },
    {
      "cell_type": "code",
      "metadata": {
        "id": "D7lfc04G6hsb"
      },
      "source": [
        "x=train.drop(['brand_prescribed'],axis=1)\r\n",
        "y=train['brand_prescribed']"
      ],
      "execution_count": 20,
      "outputs": []
    },
    {
      "cell_type": "code",
      "metadata": {
        "id": "D36tQrz76U3U"
      },
      "source": [
        "x_train,x_test,y_train,y_test=train_test_split(x,y,test_size=0.33,random_state=43)"
      ],
      "execution_count": 21,
      "outputs": []
    },
    {
      "cell_type": "markdown",
      "metadata": {
        "id": "gzL7-x4BOR3N"
      },
      "source": [
        "## Data Modelling"
      ]
    },
    {
      "cell_type": "markdown",
      "metadata": {
        "id": "lYnnGRxk7guJ"
      },
      "source": [
        "Datasets we have is mixed of continuous and binary data,so its better to proceed with tree based algorithm"
      ]
    },
    {
      "cell_type": "code",
      "metadata": {
        "colab": {
          "base_uri": "https://localhost:8080/"
        },
        "id": "Tq4QKKISCQ3u",
        "outputId": "a481d59a-0edd-4089-dd4c-2fcae9e7c63d"
      },
      "source": [
        "#applying decision tree algorithm\r\n",
        "from sklearn.tree import DecisionTreeClassifier\r\n",
        "dtc=DecisionTreeClassifier()\r\n",
        "dtc.fit(x_train,y_train)\r\n",
        "preddt=dtc.predict(x_test)\r\n",
        "print('Accuracy:',accuracy_score(y_test,preddt))\r\n",
        "print('F1_score :',f1_score(y_test,preddt))"
      ],
      "execution_count": 22,
      "outputs": [
        {
          "output_type": "stream",
          "text": [
            "Accuracy: 0.6990831696136215\n",
            "F1_score : 0.6840567253975075\n"
          ],
          "name": "stdout"
        }
      ]
    },
    {
      "cell_type": "code",
      "metadata": {
        "colab": {
          "base_uri": "https://localhost:8080/",
          "height": 313
        },
        "id": "kCAEIXt9ZvPR",
        "outputId": "472ad135-b86d-405b-8d07-e5d1cdf5b2e8"
      },
      "source": [
        "#evaluating r0c_curve and score\r\n",
        "y_pred_prob=dtc.predict_proba(x_test)[:,1]\r\n",
        "fpr,tpr,thresholds=roc_curve(y_test,y_pred_prob)\r\n",
        "plt.plot([0,1],[0,1],'k--')\r\n",
        "plt.plot(fpr,tpr)\r\n",
        "plt.xlabel('false_Positive_rate')\r\n",
        "plt.ylabel('True positive rate')\r\n",
        "plt.title('Decision Tree')\r\n",
        "plt.show()\r\n",
        "roc_score=roc_auc_score(y_test,dtc.predict(x_test))\r\n",
        "print('roc_auc_score=',roc_score)"
      ],
      "execution_count": 23,
      "outputs": [
        {
          "output_type": "display_data",
          "data": {
            "image/png": "[encoded data removed]",
            "text/plain": [
              "<Figure size 432x288 with 1 Axes>"
            ]
          },
          "metadata": {
            "tags": [],
            "needs_background": "light"
          }
        },
        {
          "output_type": "stream",
          "text": [
            "roc_auc_score= 0.6983164871781762\n"
          ],
          "name": "stdout"
        }
      ]
    },
    {
      "cell_type": "markdown",
      "metadata": {
        "id": "VM9_Rqp0CmMf"
      },
      "source": [
        "Applying random forest"
      ]
    },
    {
      "cell_type": "code",
      "metadata": {
        "colab": {
          "base_uri": "https://localhost:8080/"
        },
        "id": "V14-y0hK5tDa",
        "outputId": "b3af747f-5bba-422c-996b-f0b345a5b654"
      },
      "source": [
        "from sklearn.ensemble import RandomForestClassifier\r\n",
        "rfc=RandomForestClassifier()\r\n",
        "rfc.fit(x_train,y_train)\r\n",
        "pred=rfc.predict(x_test)\r\n",
        "print('Accuracy:',accuracy_score(y_test,pred))\r\n",
        "print('F1_score :',f1_score(y_test,pred))"
      ],
      "execution_count": 24,
      "outputs": [
        {
          "output_type": "stream",
          "text": [
            "Accuracy: 0.7789374590700721\n",
            "F1_score : 0.7688027053636403\n"
          ],
          "name": "stdout"
        }
      ]
    },
    {
      "cell_type": "markdown",
      "metadata": {
        "id": "hNbYTVIPB1bv"
      },
      "source": [
        "lets apply hyperparameter and check the result"
      ]
    },
    {
      "cell_type": "code",
      "metadata": {
        "colab": {
          "base_uri": "https://localhost:8080/"
        },
        "id": "3mgIIZOS7YDv",
        "outputId": "e41c02c3-a037-4489-86df-4a79bb11b9e0"
      },
      "source": [
        "rf=RandomForestClassifier()\r\n",
        "parameters={'n_estimators':[10,100,500]}\r\n",
        "grid=GridSearchCV(rf,parameters,cv=5)\r\n",
        "grid.fit(x,y)\r\n",
        "grid.best_params_"
      ],
      "execution_count": 25,
      "outputs": [
        {
          "output_type": "execute_result",
          "data": {
            "text/plain": [
              "{'n_estimators': 500}"
            ]
          },
          "metadata": {
            "tags": []
          },
          "execution_count": 25
        }
      ]
    },
    {
      "cell_type": "code",
      "metadata": {
        "colab": {
          "base_uri": "https://localhost:8080/"
        },
        "id": "b-ttCC6Q9SOE",
        "outputId": "26054fd9-267d-4c85-fef9-f24bf1c3ae3a"
      },
      "source": [
        "random=RandomForestClassifier(n_estimators=500)\r\n",
        "random.fit(x_train,y_train)\r\n",
        "pred=random.predict(x_test)\r\n",
        "print('Accuracy:',accuracy_score(y_test,pred))\r\n",
        "print('F1_score :',f1_score(y_test,pred))"
      ],
      "execution_count": 26,
      "outputs": [
        {
          "output_type": "stream",
          "text": [
            "Accuracy: 0.7835625409299279\n",
            "F1_score : 0.7743064447289799\n"
          ],
          "name": "stdout"
        }
      ]
    },
    {
      "cell_type": "code",
      "metadata": {
        "colab": {
          "base_uri": "https://localhost:8080/",
          "height": 313
        },
        "id": "Kn_X-AOFaD51",
        "outputId": "2d96fc01-77f7-49e1-a04a-b00c2d90b4b9"
      },
      "source": [
        "#roc_auc_curve\r\n",
        "y_pred_prob=random.predict_proba(x_test)[:,1]\r\n",
        "fpr,tpr,thresholds=roc_curve(y_test,y_pred_prob)\r\n",
        "plt.plot([0,1],[0,1],'k--')\r\n",
        "plt.plot(fpr,tpr)\r\n",
        "plt.xlabel('false_Positive_rate')\r\n",
        "plt.ylabel('True positive rate')\r\n",
        "plt.title('Random forest')\r\n",
        "plt.show()\r\n",
        "roc_score=roc_auc_score(y_test,random.predict(x_test))\r\n",
        "print('roc_auc_score=',roc_score)"
      ],
      "execution_count": 27,
      "outputs": [
        {
          "output_type": "display_data",
          "data": {
            "image/png": "[encoded data removed]",
            "text/plain": [
              "<Figure size 432x288 with 1 Axes>"
            ]
          },
          "metadata": {
            "tags": [],
            "needs_background": "light"
          }
        },
        {
          "output_type": "stream",
          "text": [
            "roc_auc_score= 0.7832194766099296\n"
          ],
          "name": "stdout"
        }
      ]
    },
    {
      "cell_type": "code",
      "metadata": {
        "id": "Nsmw2KYbBdf2"
      },
      "source": [
        "#saving the final prediction in dataframe\r\n",
        "final_predictions=pred\r\n",
        "submission=pd.DataFrame(final_predictions)\r\n",
        "submission.rename(columns={0: 'Predicted drug adoption class'}, inplace=True)"
      ],
      "execution_count": 28,
      "outputs": []
    },
    {
      "cell_type": "code",
      "metadata": {
        "colab": {
          "base_uri": "https://localhost:8080/",
          "height": 204
        },
        "id": "xlj5jin1FRfJ",
        "outputId": "6410c238-097c-462b-b8dd-395b970357f7"
      },
      "source": [
        "submission.head()"
      ],
      "execution_count": 29,
      "outputs": [
        {
          "output_type": "execute_result",
          "data": {
            "text/html": [
              "<div>\n",
              "<style scoped>\n",
              "    .dataframe tbody tr th:only-of-type {\n",
              "        vertical-align: middle;\n",
              "    }\n",
              "\n",
              "    .dataframe tbody tr th {\n",
              "        vertical-align: top;\n",
              "    }\n",
              "\n",
              "    .dataframe thead th {\n",
              "        text-align: right;\n",
              "    }\n",
              "</style>\n",
              "<table border=\"1\" class=\"dataframe\">\n",
              "  <thead>\n",
              "    <tr style=\"text-align: right;\">\n",
              "      <th></th>\n",
              "      <th>Predicted drug adoption class</th>\n",
              "    </tr>\n",
              "  </thead>\n",
              "  <tbody>\n",
              "    <tr>\n",
              "      <th>0</th>\n",
              "      <td>1</td>\n",
              "    </tr>\n",
              "    <tr>\n",
              "      <th>1</th>\n",
              "      <td>0</td>\n",
              "    </tr>\n",
              "    <tr>\n",
              "      <th>2</th>\n",
              "      <td>0</td>\n",
              "    </tr>\n",
              "    <tr>\n",
              "      <th>3</th>\n",
              "      <td>0</td>\n",
              "    </tr>\n",
              "    <tr>\n",
              "      <th>4</th>\n",
              "      <td>1</td>\n",
              "    </tr>\n",
              "  </tbody>\n",
              "</table>\n",
              "</div>"
            ],
            "text/plain": [
              "   Predicted drug adoption class\n",
              "0                              1\n",
              "1                              0\n",
              "2                              0\n",
              "3                              0\n",
              "4                              1"
            ]
          },
          "metadata": {
            "tags": []
          },
          "execution_count": 29
        }
      ]
    },
    {
      "cell_type": "code",
      "metadata": {
        "colab": {
          "base_uri": "https://localhost:8080/",
          "height": 204
        },
        "id": "7VLHoRX2Q4aq",
        "outputId": "0dd16a58-cff7-4114-a200-c7f768ac3948"
      },
      "source": [
        "#importing test data\r\n",
        "q3=pd.read_excel('/content/drive/MyDrive/Axtria/Test/Physicians_id.xlsx')\r\n",
        "test=pd.DataFrame(q3)\r\n",
        "test.head()"
      ],
      "execution_count": 30,
      "outputs": [
        {
          "output_type": "execute_result",
          "data": {
            "text/html": [
              "<div>\n",
              "<style scoped>\n",
              "    .dataframe tbody tr th:only-of-type {\n",
              "        vertical-align: middle;\n",
              "    }\n",
              "\n",
              "    .dataframe tbody tr th {\n",
              "        vertical-align: top;\n",
              "    }\n",
              "\n",
              "    .dataframe thead th {\n",
              "        text-align: right;\n",
              "    }\n",
              "</style>\n",
              "<table border=\"1\" class=\"dataframe\">\n",
              "  <thead>\n",
              "    <tr style=\"text-align: right;\">\n",
              "      <th></th>\n",
              "      <th>physician_id</th>\n",
              "    </tr>\n",
              "  </thead>\n",
              "  <tbody>\n",
              "    <tr>\n",
              "      <th>0</th>\n",
              "      <td>7</td>\n",
              "    </tr>\n",
              "    <tr>\n",
              "      <th>1</th>\n",
              "      <td>9</td>\n",
              "    </tr>\n",
              "    <tr>\n",
              "      <th>2</th>\n",
              "      <td>12</td>\n",
              "    </tr>\n",
              "    <tr>\n",
              "      <th>3</th>\n",
              "      <td>19</td>\n",
              "    </tr>\n",
              "    <tr>\n",
              "      <th>4</th>\n",
              "      <td>20</td>\n",
              "    </tr>\n",
              "  </tbody>\n",
              "</table>\n",
              "</div>"
            ],
            "text/plain": [
              "   physician_id\n",
              "0             7\n",
              "1             9\n",
              "2            12\n",
              "3            19\n",
              "4            20"
            ]
          },
          "metadata": {
            "tags": []
          },
          "execution_count": 30
        }
      ]
    },
    {
      "cell_type": "code",
      "metadata": {
        "id": "pw8Rn3DhRYFe"
      },
      "source": [
        "#as we have to predict for certain physician_id,lets extract those whom are required according to test data\r\n",
        "submit=submission.loc[test['physician_id']]"
      ],
      "execution_count": 31,
      "outputs": []
    },
    {
      "cell_type": "code",
      "metadata": {
        "colab": {
          "base_uri": "https://localhost:8080/",
          "height": 419
        },
        "id": "48t44L6SZKrO",
        "outputId": "67e8dd9c-464e-4cbb-c10d-e0f8aaccf568"
      },
      "source": [
        "submit"
      ],
      "execution_count": 32,
      "outputs": [
        {
          "output_type": "execute_result",
          "data": {
            "text/html": [
              "<div>\n",
              "<style scoped>\n",
              "    .dataframe tbody tr th:only-of-type {\n",
              "        vertical-align: middle;\n",
              "    }\n",
              "\n",
              "    .dataframe tbody tr th {\n",
              "        vertical-align: top;\n",
              "    }\n",
              "\n",
              "    .dataframe thead th {\n",
              "        text-align: right;\n",
              "    }\n",
              "</style>\n",
              "<table border=\"1\" class=\"dataframe\">\n",
              "  <thead>\n",
              "    <tr style=\"text-align: right;\">\n",
              "      <th></th>\n",
              "      <th>Predicted drug adoption class</th>\n",
              "    </tr>\n",
              "  </thead>\n",
              "  <tbody>\n",
              "    <tr>\n",
              "      <th>7</th>\n",
              "      <td>0</td>\n",
              "    </tr>\n",
              "    <tr>\n",
              "      <th>9</th>\n",
              "      <td>0</td>\n",
              "    </tr>\n",
              "    <tr>\n",
              "      <th>12</th>\n",
              "      <td>1</td>\n",
              "    </tr>\n",
              "    <tr>\n",
              "      <th>19</th>\n",
              "      <td>0</td>\n",
              "    </tr>\n",
              "    <tr>\n",
              "      <th>20</th>\n",
              "      <td>0</td>\n",
              "    </tr>\n",
              "    <tr>\n",
              "      <th>...</th>\n",
              "      <td>...</td>\n",
              "    </tr>\n",
              "    <tr>\n",
              "      <th>9957</th>\n",
              "      <td>0</td>\n",
              "    </tr>\n",
              "    <tr>\n",
              "      <th>9963</th>\n",
              "      <td>1</td>\n",
              "    </tr>\n",
              "    <tr>\n",
              "      <th>9982</th>\n",
              "      <td>0</td>\n",
              "    </tr>\n",
              "    <tr>\n",
              "      <th>9988</th>\n",
              "      <td>0</td>\n",
              "    </tr>\n",
              "    <tr>\n",
              "      <th>9995</th>\n",
              "      <td>1</td>\n",
              "    </tr>\n",
              "  </tbody>\n",
              "</table>\n",
              "<p>1502 rows × 1 columns</p>\n",
              "</div>"
            ],
            "text/plain": [
              "      Predicted drug adoption class\n",
              "7                                 0\n",
              "9                                 0\n",
              "12                                1\n",
              "19                                0\n",
              "20                                0\n",
              "...                             ...\n",
              "9957                              0\n",
              "9963                              1\n",
              "9982                              0\n",
              "9988                              0\n",
              "9995                              1\n",
              "\n",
              "[1502 rows x 1 columns]"
            ]
          },
          "metadata": {
            "tags": []
          },
          "execution_count": 32
        }
      ]
    },
    {
      "cell_type": "code",
      "metadata": {
        "id": "PFZzcCFbGn-3"
      },
      "source": [
        "#saving the file to csv\r\n",
        "submit.to_csv('predictions.csv',index=False)\r\n",
        "!cp solution.csv \"drive/My Drive/Axtria/\""
      ],
      "execution_count": 33,
      "outputs": []
    }
  ]
}